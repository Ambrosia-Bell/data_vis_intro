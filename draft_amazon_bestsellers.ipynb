{
 "cells": [
  {
   "cell_type": "markdown",
   "id": "suspended-landscape",
   "metadata": {},
   "source": [
    "# Intro to my plan\n",
    "\n",
    "In this notebook, I am going to analyze the dataset of Amazon's Bestsellers in 2009-2019. I will bring in the CSV data and sort through it."
   ]
  },
  {
   "cell_type": "code",
   "execution_count": 1,
   "id": "cooked-lesbian",
   "metadata": {},
   "outputs": [],
   "source": [
    "import matplotlib.pyplot as plt\n",
    "import csv\n",
    "import datetime"
   ]
  },
  {
   "cell_type": "code",
   "execution_count": 2,
   "id": "macro-guide",
   "metadata": {},
   "outputs": [],
   "source": [
    "with open('bestsellers with categories.csv', 'r', encoding='utf-8') as datafile:\n",
    "    amazon_book_data = csv.DictReader(datafile)\n",
    "    book_data = []\n",
    "    \n",
    "    for row in amazon_book_data:\n",
    "        book_data.append(row)"
   ]
  },
  {
   "cell_type": "code",
   "execution_count": 3,
   "id": "manufactured-soldier",
   "metadata": {},
   "outputs": [
    {
     "data": {
      "text/plain": [
       "{'Name': '10-Day Green Smoothie Cleanse',\n",
       " 'Author': 'JJ Smith',\n",
       " 'User Rating': '4.7',\n",
       " 'Reviews': '17350',\n",
       " 'Price': '8',\n",
       " 'Year': '2016',\n",
       " 'Genre': 'Non Fiction'}"
      ]
     },
     "execution_count": 3,
     "metadata": {},
     "output_type": "execute_result"
    }
   ],
   "source": [
    "book_data[0]"
   ]
  },
  {
   "cell_type": "code",
   "execution_count": 4,
   "id": "beautiful-attachment",
   "metadata": {},
   "outputs": [],
   "source": [
    "bestseller_data = {}\n",
    "year = datetime.datetime.year\n",
    "year_list = ['2009', '2010', '2011', '2012', '2013', '2014', '2015', '2016', '2017', '2018', '2019']\n",
    "book_rate = ['User Rating']\n",
    "\n",
    "for item in book_data:\n",
    "\n",
    "    if item['Genre'] == 'Non Fiction' or 'Fiction':\n",
    "        if not bestseller_data.get(item['User Rating']):\n",
    "            bestseller_data[ item['User Rating'] ] = {}\n",
    "        if not bestseller_data.get(item['Year']):\n",
    "            bestseller_data[ item['Year'] ] = {}\n",
    "        if not bestseller_data[ item['Year'] ].get(datetime.datetime.year):\n",
    "            bestseller_data[ item['Year'] ][datetime.datetime.year] = []\n",
    "        entry = {\n",
    "            item['Genre']: item['Year'] and item['User Rating']\n",
    "        }\n",
    "        bestseller_data[ item['Year'] ][ datetime.datetime.year].append(entry)\n",
    "            \n",
    "    \n",
    "    \n",
    "            \n",
    "# bestseller_data"
   ]
  },
  {
   "cell_type": "code",
   "execution_count": 5,
   "id": "judicial-college",
   "metadata": {},
   "outputs": [
    {
     "data": {
      "image/png": "[encoded data removed]",
      "text/plain": [
       "<Figure size 432x288 with 1 Axes>"
      ]
     },
     "metadata": {
      "needs_background": "light"
     },
     "output_type": "display_data"
    },
    {
     "data": {
      "text/plain": [
       "[<matplotlib.lines.Line2D at 0x21970068f70>]"
      ]
     },
     "execution_count": 5,
     "metadata": {},
     "output_type": "execute_result"
    },
    {
     "data": {
      "image/png": "[encoded data removed]",
      "text/plain": [
       "<Figure size 432x288 with 1 Axes>"
      ]
     },
     "metadata": {
      "needs_background": "light"
     },
     "output_type": "display_data"
    }
   ],
   "source": [
    "plt.title('Popular Books')\n",
    "plt.xlabel('Year (2000s)')\n",
    "plt.ylabel('User Rating')\n",
    "# barplot = plt.bar(x, y)\n",
    "# year_list = ['Year']\n",
    "# rate_list = ['User Rating']\n",
    "# # xval = bar.get_height()\n",
    "# # get_x(item['Year'])\n",
    "# # plt.xticks = range(1,11)\n",
    "\n",
    "# # x = [10, 11, 12, 13, 14]\n",
    "# # y = [1, 2, 3, 4, 5]\n",
    "\n",
    "\n",
    "# # x1 = [year_list]\n",
    "# # y1 = [rate_list]\n",
    "\n",
    "# # plt.bar(x, y, color='red', label='Fiction')\n",
    "# # plt.bar(x1, y1, color='blue', label='Non Fiction')\n",
    "# # plt.legend()\n",
    "# Year = ['2012','2013','2014','2015','2016']\n",
    "# Rate = [1,2,3,4,5]\n",
    "\n",
    "# xticks = Year\n",
    "# yticks = Rate\n",
    "\n",
    "# x = [2, 4, 6, 3]\n",
    "# y = [, 3, 5, 4]\n",
    "# plt.bar(x, y)\n",
    "# plt.title('Country Vs GDP Per Capita')\n",
    "# plt.xlabel('Country')\n",
    "# plt.ylabel('GDP Per Capita')\n",
    "plt.show()\n",
    "# labels = 'Non Fiction', 'Fiction', 'Ruby', 'Java'\n",
    "# sizes = [21, 130, 245, 210]\n",
    "# colors = ['gold', 'yellowgreen', 'lightcoral', 'lightskyblue']\n",
    "# explode = (0.1, 0.1, 0.1, 0.1)  # explode 1st slice\n",
    "x = year_list \n",
    "\n",
    "# TODO: Create y axis Cumulative list\n",
    "y = []\n",
    "\n",
    "for year in x:\n",
    "    rate_list = 4.2\n",
    "#     for year in year_list:\n",
    "#         if bestseller_data[year].get(year):\n",
    "#             last_value = int(float(book_data[year_list]['User Rating'][-1]['Genre']))\n",
    "#             rate_list += last_value\n",
    "    y.append(rate_list)\n",
    "        \n",
    "plt.xticks(rotation=45)\n",
    "\n",
    "\n",
    "\n",
    "\n",
    "# for x in range(10):\n",
    "#     increment += (max(y) / 1000000) / 10\n",
    "#     lab.append(int(increment))\n",
    "\n",
    "plt.plot(x, y)\n",
    "# # Plot\n",
    "# plt.pie(sizes, explode=explode, labels=labels, colors=colors,\n",
    "# autopct='%1.1f%%', shadow=True, startangle=140)\n",
    "\n",
    "# plt.axis('equal')\n",
    "# plt.show()\n",
    "# plt.show()\n",
    "# plt.bar()"
   ]
  },
  {
   "cell_type": "code",
   "execution_count": null,
   "id": "mental-suite",
   "metadata": {},
   "outputs": [],
   "source": []
  }
 ],
 "metadata": {
  "kernelspec": {
   "display_name": "data_vis",
   "language": "python",
   "name": "data_vis"
  },
  "language_info": {
   "codemirror_mode": {
    "name": "ipython",
    "version": 3
   },
   "file_extension": ".py",
   "mimetype": "text/x-python",
   "name": "python",
   "nbconvert_exporter": "python",
   "pygments_lexer": "ipython3",
   "version": "3.9.1"
  }
 },
 "nbformat": 4,
 "nbformat_minor": 5
}
