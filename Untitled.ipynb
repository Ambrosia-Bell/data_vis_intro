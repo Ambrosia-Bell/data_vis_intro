{
 "cells": [
  {
   "cell_type": "code",
   "execution_count": 5,
   "id": "pointed-owner",
   "metadata": {},
   "outputs": [],
   "source": [
    "import matplotlib.pyplot as plt\n",
    "import csv"
   ]
  },
  {
   "cell_type": "code",
   "execution_count": null,
   "id": "worse-powell",
   "metadata": {},
   "outputs": [],
   "source": [
    "with open('bestsellers with categories.csv', 'r') as datafile:\n",
    "    amazon_book_data = csv.DictReader(datafile)\n",
    "    book_data = []\n",
    "    \n",
    "    for row in amazon_book_data:\n",
    "        book_data.append(row)"
   ]
  },
  {
   "cell_type": "code",
   "execution_count": null,
   "id": "animal-parks",
   "metadata": {},
   "outputs": [],
   "source": [
    "book_data[]"
   ]
  },
  {
   "cell_type": "code",
   "execution_count": null,
   "id": "seasonal-antique",
   "metadata": {},
   "outputs": [],
   "source": []
  }
 ],
 "metadata": {
  "kernelspec": {
   "display_name": "data_vis",
   "language": "python",
   "name": "data_vis"
  },
  "language_info": {
   "codemirror_mode": {
    "name": "ipython",
    "version": 3
   },
   "file_extension": ".py",
   "mimetype": "text/x-python",
   "name": "python",
   "nbconvert_exporter": "python",
   "pygments_lexer": "ipython3",
   "version": "3.9.1"
  }
 },
 "nbformat": 4,
 "nbformat_minor": 5
}
